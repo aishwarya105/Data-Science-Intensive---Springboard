{
 "cells": [
  {
   "cell_type": "markdown",
   "metadata": {},
   "source": [
    "\n",
    "# What is the True Normal Human Body Temperature? \n",
    "\n",
    "#### Background\n",
    "\n",
    "The mean normal body temperature was held to be 37$^{\\circ}$C or 98.6$^{\\circ}$F for more than 120 years since it was first conceptualized and reported by Carl Wunderlich in a famous 1868 book. But, is this value statistically correct?"
   ]
  },
  {
   "cell_type": "markdown",
   "metadata": {},
   "source": [
    "<h3>Exercises</h3>\n",
    "\n",
    "<p>In this exercise, you will analyze a dataset of human body temperatures and employ the concepts of hypothesis testing, confidence intervals, and statistical significance.</p>\n",
    "\n",
    "<p>Answer the following questions <b>in this notebook below and submit to your Github account</b>.</p> \n",
    "\n",
    "<ol>\n",
    "<li>  Is the distribution of body temperatures normal? \n",
    "    <ul>\n",
    "    <li> Although this is not a requirement for CLT to hold (read CLT carefully), it gives us some peace of mind that the population may also be normally distributed if we assume that this sample is representative of the population.\n",
    "    </ul>\n",
    "<li>  Is the sample size large? Are the observations independent?\n",
    "    <ul>\n",
    "    <li> Remember that this is a condition for the CLT, and hence the statistical tests we are using, to apply.\n",
    "    </ul>\n",
    "<li>  Is the true population mean really 98.6 degrees F?\n",
    "    <ul>\n",
    "    <li> Would you use a one-sample or two-sample test? Why?\n",
    "    <li> In this situation, is it appropriate to use the $t$ or $z$ statistic? \n",
    "    <li> Now try using the other test. How is the result be different? Why?\n",
    "    </ul>\n",
    "<li>  Draw a small sample of size 10 from the data and repeat both tests. \n",
    "    <ul>\n",
    "    <li> Which one is the correct one to use? \n",
    "    <li> What do you notice? What does this tell you about the difference in application of the $t$ and $z$ statistic?\n",
    "    </ul>\n",
    "<li>  At what temperature should we consider someone's temperature to be \"abnormal\"?\n",
    "    <ul>\n",
    "    <li> Start by computing the margin of error and confidence interval.\n",
    "    </ul>\n",
    "<li>  Is there a significant difference between males and females in normal temperature?\n",
    "    <ul>\n",
    "    <li> What test did you use and why?\n",
    "    <li> Write a story with your conclusion in the context of the original problem.\n",
    "    </ul>\n",
    "</ol>\n",
    "\n",
    "You can include written notes in notebook cells using Markdown: \n",
    "   - In the control panel at the top, choose Cell > Cell Type > Markdown\n",
    "   - Markdown syntax: http://nestacms.com/docs/creating-content/markdown-cheat-sheet\n",
    "\n",
    "#### Resources\n",
    "\n",
    "+ Information and data sources: http://www.amstat.org/publications/jse/datasets/normtemp.txt, http://www.amstat.org/publications/jse/jse_data_archive.htm\n",
    "+ Markdown syntax: http://nestacms.com/docs/creating-content/markdown-cheat-sheet\n",
    "\n",
    "****"
   ]
  },
  {
   "cell_type": "code",
   "execution_count": 2,
   "metadata": {
    "collapsed": true
   },
   "outputs": [],
   "source": [
    "import pandas as pd\n",
    "\n",
    "df = pd.read_csv('data/human_body_temperature.csv')"
   ]
  },
  {
   "cell_type": "code",
   "execution_count": 3,
   "metadata": {},
   "outputs": [
    {
     "name": "stdout",
     "output_type": "stream",
     "text": [
      "<class 'pandas.core.frame.DataFrame'>\n",
      "RangeIndex: 130 entries, 0 to 129\n",
      "Data columns (total 3 columns):\n",
      "temperature    130 non-null float64\n",
      "gender         130 non-null object\n",
      "heart_rate     130 non-null float64\n",
      "dtypes: float64(2), object(1)\n",
      "memory usage: 3.1+ KB\n",
      "None\n"
     ]
    }
   ],
   "source": [
    "# Your work here.\n",
    "print(df.info())"
   ]
  },
  {
   "cell_type": "code",
   "execution_count": 4,
   "metadata": {},
   "outputs": [
    {
     "name": "stdout",
     "output_type": "stream",
     "text": [
      "   temperature gender  heart_rate\n",
      "0         99.3      F        68.0\n",
      "1         98.4      F        81.0\n",
      "2         97.8      M        73.0\n",
      "3         99.2      F        66.0\n",
      "4         98.0      F        73.0\n"
     ]
    }
   ],
   "source": [
    "print(df.head())"
   ]
  },
  {
   "cell_type": "code",
   "execution_count": 5,
   "metadata": {},
   "outputs": [
    {
     "name": "stdout",
     "output_type": "stream",
     "text": [
      "       temperature  heart_rate\n",
      "count   130.000000  130.000000\n",
      "mean     98.249231   73.761538\n",
      "std       0.733183    7.062077\n",
      "min      96.300000   57.000000\n",
      "25%      97.800000   69.000000\n",
      "50%      98.300000   74.000000\n",
      "75%      98.700000   79.000000\n",
      "max     100.800000   89.000000\n"
     ]
    }
   ],
   "source": [
    "print(df.describe())"
   ]
  },
  {
   "cell_type": "markdown",
   "metadata": {},
   "source": [
    "<h3>1. Is the distribution of body temperature normal? </h3>\n",
    "<p>Comparing the theoretical and the actual ecdf of the human body temperature the data does come close to a normal distribution</p>\n"
   ]
  },
  {
   "cell_type": "code",
   "execution_count": 69,
   "metadata": {},
   "outputs": [
    {
     "name": "stderr",
     "output_type": "stream",
     "text": [
      "/anaconda/lib/python3.6/site-packages/matplotlib/axes/_axes.py:545: UserWarning: No labelled objects found. Use label='...' kwarg on individual plots.\n",
      "  warnings.warn(\"No labelled objects found. \"\n"
     ]
    },
    {
     "data": {
      "image/png": "[encoded data removed]",
      "text/plain": [
       "<matplotlib.figure.Figure at 0x11c0131d0>"
      ]
     },
     "metadata": {},
     "output_type": "display_data"
    }
   ],
   "source": [
    "import numpy as np\n",
    "import seaborn as sns\n",
    "import matplotlib.pyplot as plt\n",
    "\n",
    "def ecdf(data):\n",
    "    n=len(data)\n",
    "    x=np.sort(data)\n",
    "    y=np.arange(1,n+1)/n\n",
    "    return x,y \n",
    "\n",
    "mean = np.mean(df['temperature'])\n",
    "std = np.std(df['temperature'])\n",
    "samples = np.random.normal(mean,std,size=10000)\n",
    "x,y=ecdf(df['temperature'])\n",
    "x_theor,y_theor=ecdf(samples)\n",
    "\n",
    "_ = plt.plot(x_theor, y_theor)\n",
    "_ = plt.plot(x, y, marker='.', linestyle='none')\n",
    "plt.margins(0.02)\n",
    "_ = plt.xlabel('Body Temperature')\n",
    "_ = plt.ylabel('CDF')\n",
    "plt.show()\n",
    "\n"
   ]
  },
  {
   "cell_type": "code",
   "execution_count": 23,
   "metadata": {},
   "outputs": [
    {
     "data": {
      "image/png": "[encoded data removed]",
      "text/plain": [
       "<matplotlib.figure.Figure at 0x114292320>"
      ]
     },
     "metadata": {},
     "output_type": "display_data"
    }
   ],
   "source": [
    "#Additonal data exploration\n",
    "import seaborn as sns\n",
    "sns.set()\n",
    "_ = sns.swarmplot(df['gender'],df['temperature'])\n",
    "plt.show()\n"
   ]
  },
  {
   "cell_type": "markdown",
   "metadata": {},
   "source": [
    "<h3>2. Is the sample large? Are the observations independent? </h3>\n",
    "<p>Since the sample size is larger than 30 it is adequate to test hypothesis. \n",
    "Given the almost 0 correlation between the Male and Female temperatures and fitting a poorly scored linear regression through it, shows that the data is not correlated. </p>"
   ]
  },
  {
   "cell_type": "code",
   "execution_count": 72,
   "metadata": {},
   "outputs": [
    {
     "name": "stdout",
     "output_type": "stream",
     "text": [
      "Correlation coefficient between temperatures of the two genders: -0.0396448615892\n"
     ]
    },
    {
     "data": {
      "image/png": "[encoded data removed]",
      "text/plain": [
       "<matplotlib.figure.Figure at 0x11bf980f0>"
      ]
     },
     "metadata": {},
     "output_type": "display_data"
    },
    {
     "name": "stdout",
     "output_type": "stream",
     "text": [
      "Linear Regression Score:  0.00157171505042\n"
     ]
    }
   ],
   "source": [
    "print(\"Correlation coefficient between temperatures of the two genders:\" , np.corrcoef(df['temperature'][df['gender']=='M'],df['temperature'][df['gender']=='F'])[0,1]) \n",
    "\n",
    "import seaborn as sns\n",
    "from sklearn.linear_model import LinearRegression\n",
    "sns.set\n",
    "x= pd.DataFrame(df['temperature'][df['gender']=='M'])\n",
    "y= pd.DataFrame(df['temperature'][df['gender']=='F'])\n",
    "lm2 = LinearRegression()\n",
    "lm2.fit(x,y)\n",
    "plt.scatter(y,lm2.predict(x),alpha = 0.5)\n",
    "plt.xlabel('True Temp')\n",
    "plt.ylabel('Predicted Temp')\n",
    "plt.show()\n",
    "print(\"Linear Regression Score: \",lm2.score(x,y))\n",
    "\n",
    "\n"
   ]
  },
  {
   "cell_type": "code",
   "execution_count": 65,
   "metadata": {},
   "outputs": [
    {
     "data": {
      "image/png": "[encoded data removed]",
      "text/plain": [
       "<matplotlib.figure.Figure at 0x11bf817f0>"
      ]
     },
     "metadata": {},
     "output_type": "display_data"
    },
    {
     "name": "stdout",
     "output_type": "stream",
     "text": [
      "Linear Regression Score:  0.00157171505042\n"
     ]
    }
   ],
   "source": [
    "#2.2\n",
    "plt.scatter(lm2.predict(x), lm2.predict(x) - y)\n",
    "plt.hlines(y=0,xmin=98,xmax=98.5)\n",
    "plt.show()\n",
    "print(\"Linear Regression Score: \", lm2.score(x,y))"
   ]
  },
  {
   "cell_type": "markdown",
   "metadata": {},
   "source": [
    "<h3>3. Is the true population mean really 98.6 degrees F</h3>\n",
    "<p>True mean is the temperature we would have gotten had we done the experiment lots and lots of times. \n",
    "However since we are comparing to a value, permutation test is not applicable.\n",
    "We need to shift the data so that the mean is now the \"true mean\"</p>\n",
    "<p>new_temp = temperature - np.mean(temperature) + \"true mean\"</p>\n",
    "\n",
    "<p>Now we can use bootstrapping on this new data set to simulate data collection under the null hypothesis. </p>\n",
    "<p>This is a one sample test if we shift and bootstrap one data. \n",
    "Since sample size is greater than 30 we can assume normal distribution and use the z statistic critical value at 5% significance level and calculate Z.</p>\n",
    "<p>The small p-value obtained in the test leads us to reject the null hypothesis that the mean body temperature is 98.6 degree F </p>"
   ]
  },
  {
   "cell_type": "code",
   "execution_count": 130,
   "metadata": {},
   "outputs": [
    {
     "name": "stdout",
     "output_type": "stream",
     "text": [
      "0.7303577789050377\n",
      "Z score:  -5.47592520208\n",
      "0.0\n"
     ]
    }
   ],
   "source": [
    "#Reject null hypothesis if Z <= -1.645\n",
    "pop_mean = 98.6\n",
    "sample_std = np.std(df['temperature'])\n",
    "sample_mean = np.mean(df['temperature'])\n",
    "sample_size = len(df['temperature'])\n",
    "test_statistic = (sample_mean - pop_mean) / (sample_std / np.sqrt(sample_size))\n",
    "print(\"Z score: \", Z)\n",
    "\n",
    "#null hypothesis: the true population mean is 98.6 degrees\n",
    "def diff_from_true_mean(data,true_mean = 98.6):\n",
    "    return np.mean(data) - true_mean\n",
    "\n",
    "def bootstrap_replicate_1d(data,func):\n",
    "    return func(np.random.choice(data,len(data)))\n",
    "\n",
    "def draw_bs_reps(data,func,size=1):\n",
    "    bs_replicates = np.empty(size)\n",
    "    for i in range(size):\n",
    "        bs_replicates[i] = bootstrap_replicate_1d(data,func)\n",
    "    return bs_replicates        \n",
    "           \n",
    "true_mean = 98.6\n",
    "sample_mean = np.mean(df['temperature'])\n",
    "temperature_shifted = df['temperature'] - sample_mean + true_mean\n",
    "diff_obs = sample_mean - true_mean\n",
    "bs_replicates = draw_bs_reps(temperature_shifted,diff_from_true_mean,100000)\n",
    "p_value = np.sum(bs_replicates <=diff_obs)/100000\n",
    "print(p_value)"
   ]
  },
  {
   "cell_type": "markdown",
   "metadata": {},
   "source": [
    "<h3> 4. Draw a small sample of size 10 from the data and repeat both tests. </h3>\n",
    "    <ul>\n",
    "    <li> Which one is the correct one to use? \n",
    "    <li> What do you notice? What does this tell you about the difference in application of the $t$ and $z$ statistic?\n",
    "    </ul>\n",
    "    \n",
    "<h3> Solution: </h3>\n",
    "<p>Since the sample size is much smaller now and we do not know the population standard deviation we should use the T test. At 5% significance level the t critical value for a two tailed test is 2.26. Therefore we can reject the null hypothesis that the true population mean is 98.6 degrees if the T statistic is < -2.26 or > 2.26 </p>\n",
    "<p> It looks like the T critical value for rejecting the null hypothesis is more strict and therefore the null hypothesis that was easily rejected in the previous step, is more difficult to reject now</p>\n",
    "    "
   ]
  },
  {
   "cell_type": "code",
   "execution_count": 138,
   "metadata": {},
   "outputs": [
    {
     "name": "stdout",
     "output_type": "stream",
     "text": [
      "[ 98.   96.3  99.   98.   98.7  98.7  98.3  97.8  98.   98.6]\n",
      "T critical : 2.26215716274\n",
      "Z critical:  1.95996398454\n",
      "T statistic : -2.0242526425\n"
     ]
    }
   ],
   "source": [
    "sample_10 = np.random.choice(df['temperature'], size=10)\n",
    "print(sample_10)\n",
    "sample_10_mean = np.mean(sample_10)\n",
    "sample_10_std = np.std(sample_10)\n",
    "degrees_freedom = len(sample_10) -1\n",
    "t_critical = stats.t.ppf(1-0.025,9)\n",
    "print(\"T critical :\",t_critical)\n",
    "Z_critical = stats.norm.ppf(q=0.975)\n",
    "print(\"Z critical: \", Z_critical)\n",
    "print(\"T statistic :\",(sample_10_mean-98.6)/ (sample_10_std/np.sqrt(10)))\n"
   ]
  },
  {
   "cell_type": "markdown",
   "metadata": {},
   "source": [
    "<h3>5. At what temperature should we consider someone's temperature to be \"abnormal\"?</h3>\n",
    "<p>Start by computing the margin of error and confidence interval. Draw bootstrap samples, and create bootstrap replicates of mean then calculate the confidence interval.</p>"
   ]
  },
  {
   "cell_type": "code",
   "execution_count": 9,
   "metadata": {},
   "outputs": [
    {
     "name": "stdout",
     "output_type": "stream",
     "text": [
      "[ 98.12230769  98.37461538]\n",
      "Standard error of the mean: 0.0640566146952\n",
      "Margin of error: 0.125548657774\n",
      "Recalculated confidence interval: [98.123492111456642, 98.374589427004906]\n"
     ]
    }
   ],
   "source": [
    "\n",
    "from scipy import stats\n",
    "\n",
    "bs_replicates = draw_bs_reps(df['temperature'],np.mean,10000)\n",
    "print(np.percentile(bs_replicates,[2.5,97.5]))\n",
    "\n",
    "sem = np.std(df['temperature'])/np.sqrt(len(df['temperature']))\n",
    "print(\"Standard error of the mean:\",sem)\n",
    "z_critical = stats.norm.ppf(q = 0.975)\n",
    "margin_of_error = z_critical*sem\n",
    "print(\"Margin of error:\",margin_of_error)\n",
    "confidence_interval = [np.mean(bs_replicates) - margin_of_error, np.mean(bs_replicates) + margin_of_error]\n",
    "print(\"Recalculated confidence interval:\",confidence_interval)"
   ]
  },
  {
   "cell_type": "code",
   "execution_count": 10,
   "metadata": {},
   "outputs": [
    {
     "data": {
      "text/plain": [
       "98.187692307692302"
      ]
     },
     "execution_count": 10,
     "metadata": {},
     "output_type": "execute_result"
    }
   ],
   "source": [
    "np.mean(np.random.choice(df['temperature'],len(df['temperature'])))"
   ]
  },
  {
   "cell_type": "markdown",
   "metadata": {},
   "source": [
    "<h3>6.Is there a significant difference between males and females in normal temperature?</h3>\n",
    "<p>What test did you use and why?\n",
    "Write a story with your conclusion in the context of the original problem.</p>\n",
    "\n",
    "<h3>Solution:</h3>\n",
    "<p>Since sample size n >= 30 we can perform test the Z statistic to determine if there is a significant difference between the body temperatures of the two genders</p>\n",
    "\n",
    "<h4>Step 1:</h4>\n",
    "<p>H0: u1 = u2</p>\n",
    "<p>H1: u1 != u2 .  a = 0.05(significance level)</p>\n",
    "\n",
    "<h4>Step 2: </h4>\n",
    "<p>Since sample size is > = 30 we can use Z test statistic. </p>\n",
    "<p>The ratio of the sample variances of the two genders is 0.88 which implies that the assumption of equality of the population variances is reasonable. </p>\n",
    "\n",
    "<p>The appropriate test statistic is z = (x1 - x2)/s x ((1/n1 + 1/n2)^(1/2))</p>\n",
    "\n",
    "<h4>Step 3: Decision rule</h4>\n",
    "<p>This is a two-tailed test at 5% significance level and therefore we will reject the null hypothesis if\n",
    "Z<= -1.960 or Z >= 1.960</p>"
   ]
  },
  {
   "cell_type": "code",
   "execution_count": 75,
   "metadata": {},
   "outputs": [
    {
     "name": "stdout",
     "output_type": "stream",
     "text": [
      "-2.28543453817\n",
      "-0.289230769230727\n",
      "0.01233\n"
     ]
    }
   ],
   "source": [
    "\n",
    "diff_obs = np.mean(df['temperature'][df['gender']=='M']) - np.mean(df['temperature'][df['gender']=='F'])\n",
    "Sp_num = 64*(np.var(df['temperature'][df['gender']=='M'])) + 64*np.var(df['temperature'][df['gender']=='F'])\n",
    "Sp_den = 128\n",
    "Sp = np.sqrt(Sp_num/Sp_den)\n",
    "Z = diff_obs/(Sp * np.sqrt(1/64 + 1/64))\n",
    "print(Z)\n",
    "\n",
    "print(diff_obs)\n",
    "perm_reps = np.empty(100000)\n",
    "\n",
    "for i in range(100000):\n",
    "    new_df = np.random.permutation(df['temperature'])\n",
    "    new_male = new_df[:len(new_df)//2]\n",
    "    new_female = new_df[len(new_df)//2:]\n",
    "    perm_reps[i] = np.mean(new_male) - np.mean(new_female)\n",
    "\n",
    "p_value = np.sum(perm_reps <=diff_obs)/100000\n",
    "print(p_value)\n",
    "\n"
   ]
  },
  {
   "cell_type": "code",
   "execution_count": 44,
   "metadata": {},
   "outputs": [
    {
     "name": "stdout",
     "output_type": "stream",
     "text": [
      "Mean Squared error: temperature    0.543414\n",
      "dtype: float64\n",
      "temperature    1.967657e-14\n",
      "dtype: float64\n"
     ]
    }
   ],
   "source": [
    "import seaborn as sns\n",
    "from sklearn.linear_model import LinearRegression\n",
    "sns.set\n",
    "x= pd.DataFrame(df['temperature'][df['gender']=='M'])\n",
    "y= pd.DataFrame(df['temperature'][df['gender']=='F'])\n",
    "lm2 = LinearRegression()\n",
    "lm2.fit(x,y)\n",
    "plt.scatter(y,lm2.predict(x),alpha = 0.5)\n",
    "plt.xlabel('True Temp')\n",
    "plt.ylabel('Predicted Temp')\n",
    "\n",
    "print(\"Mean Squared error:\" , np.mean((y - lm2.predict(x))**2))\n"
   ]
  },
  {
   "cell_type": "code",
   "execution_count": null,
   "metadata": {
    "collapsed": true
   },
   "outputs": [],
   "source": []
  }
 ],
 "metadata": {
  "kernelspec": {
   "display_name": "Python 3",
   "language": "python",
   "name": "python3"
  },
  "language_info": {
   "codemirror_mode": {
    "name": "ipython",
    "version": 3
   },
   "file_extension": ".py",
   "mimetype": "text/x-python",
   "name": "python",
   "nbconvert_exporter": "python",
   "pygments_lexer": "ipython3",
   "version": "3.6.1"
  }
 },
 "nbformat": 4,
 "nbformat_minor": 1
}
