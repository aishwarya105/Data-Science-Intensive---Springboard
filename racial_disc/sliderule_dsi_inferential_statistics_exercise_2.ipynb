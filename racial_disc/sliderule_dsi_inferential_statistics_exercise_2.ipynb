{
 "cells": [
  {
   "cell_type": "markdown",
   "metadata": {},
   "source": [
    "# Examining Racial Discrimination in the US Job Market\n",
    "\n",
    "### Background\n",
    "Racial discrimination continues to be pervasive in cultures throughout the world. Researchers examined the level of racial discrimination in the United States labor market by randomly assigning identical résumés to black-sounding or white-sounding names and observing the impact on requests for interviews from employers.\n",
    "\n",
    "### Data\n",
    "In the dataset provided, each row represents a resume. The 'race' column has two values, 'b' and 'w', indicating black-sounding and white-sounding. The column 'call' has two values, 1 and 0, indicating whether the resume received a call from employers or not.\n",
    "\n",
    "Note that the 'b' and 'w' values in race are assigned randomly to the resumes when presented to the employer."
   ]
  },
  {
   "cell_type": "markdown",
   "metadata": {},
   "source": [
    "### Exercises\n",
    "You will perform a statistical analysis to establish whether race has a significant impact on the rate of callbacks for resumes.\n",
    "\n",
    "Answer the following questions **in this notebook below and submit to your Github account**. \n",
    "\n",
    "   1. What test is appropriate for this problem? Does CLT apply?\n",
    "   2. What are the null and alternate hypotheses?\n",
    "   3. Compute margin of error, confidence interval, and p-value.\n",
    "   4. Write a story describing the statistical significance in the context or the original problem.\n",
    "   5. Does your analysis mean that race/name is the most important factor in callback success? Why or why not? If not, how would you amend your analysis?\n",
    "\n",
    "You can include written notes in notebook cells using Markdown: \n",
    "   - In the control panel at the top, choose Cell > Cell Type > Markdown\n",
    "   - Markdown syntax: http://nestacms.com/docs/creating-content/markdown-cheat-sheet\n",
    "\n",
    "\n",
    "#### Resources\n",
    "+ Experiment information and data source: http://www.povertyactionlab.org/evaluation/discrimination-job-market-united-states\n",
    "+ Scipy statistical methods: http://docs.scipy.org/doc/scipy/reference/stats.html \n",
    "+ Markdown syntax: http://nestacms.com/docs/creating-content/markdown-cheat-sheet\n",
    "****"
   ]
  },
  {
   "cell_type": "code",
   "execution_count": 2,
   "metadata": {
    "collapsed": true
   },
   "outputs": [],
   "source": [
    "import pandas as pd\n",
    "import numpy as np\n",
    "from scipy import stats"
   ]
  },
  {
   "cell_type": "code",
   "execution_count": 3,
   "metadata": {
    "collapsed": true
   },
   "outputs": [],
   "source": [
    "data = pd.io.stata.read_stata('data/us_job_market_discrimination.dta')"
   ]
  },
  {
   "cell_type": "code",
   "execution_count": 4,
   "metadata": {},
   "outputs": [
    {
     "data": {
      "text/plain": [
       "157.0"
      ]
     },
     "execution_count": 4,
     "metadata": {},
     "output_type": "execute_result"
    }
   ],
   "source": [
    "# number of callbacks for black-sounding names\n",
    "sum(data[data.race=='b'].call)"
   ]
  },
  {
   "cell_type": "code",
   "execution_count": 30,
   "metadata": {},
   "outputs": [],
   "source": [
    "data.head()\n",
    "data.to_excel('Race_job.xlsx')"
   ]
  },
  {
   "cell_type": "code",
   "execution_count": 6,
   "metadata": {},
   "outputs": [
    {
     "name": "stdout",
     "output_type": "stream",
     "text": [
      "<class 'pandas.core.frame.DataFrame'>\n",
      "Int64Index: 4870 entries, 0 to 4869\n",
      "Data columns (total 65 columns):\n",
      "id                    4870 non-null object\n",
      "ad                    4870 non-null object\n",
      "education             4870 non-null int8\n",
      "ofjobs                4870 non-null int8\n",
      "yearsexp              4870 non-null int8\n",
      "honors                4870 non-null int8\n",
      "volunteer             4870 non-null int8\n",
      "military              4870 non-null int8\n",
      "empholes              4870 non-null int8\n",
      "occupspecific         4870 non-null int16\n",
      "occupbroad            4870 non-null int8\n",
      "workinschool          4870 non-null int8\n",
      "email                 4870 non-null int8\n",
      "computerskills        4870 non-null int8\n",
      "specialskills         4870 non-null int8\n",
      "firstname             4870 non-null object\n",
      "sex                   4870 non-null object\n",
      "race                  4870 non-null object\n",
      "h                     4870 non-null float32\n",
      "l                     4870 non-null float32\n",
      "call                  4870 non-null float32\n",
      "city                  4870 non-null object\n",
      "kind                  4870 non-null object\n",
      "adid                  4870 non-null float32\n",
      "fracblack             4784 non-null float32\n",
      "fracwhite             4784 non-null float32\n",
      "lmedhhinc             4784 non-null float32\n",
      "fracdropout           4784 non-null float32\n",
      "fraccolp              4784 non-null float32\n",
      "linc                  4784 non-null float32\n",
      "col                   4870 non-null float32\n",
      "expminreq             4870 non-null object\n",
      "schoolreq             4870 non-null object\n",
      "eoe                   4870 non-null float32\n",
      "parent_sales          1672 non-null float32\n",
      "parent_emp            1722 non-null float32\n",
      "branch_sales          608 non-null float32\n",
      "branch_emp            658 non-null float32\n",
      "fed                   3102 non-null float32\n",
      "fracblack_empzip      1918 non-null float32\n",
      "fracwhite_empzip      1918 non-null float32\n",
      "lmedhhinc_empzip      1908 non-null float32\n",
      "fracdropout_empzip    1918 non-null float32\n",
      "fraccolp_empzip       1918 non-null float32\n",
      "linc_empzip           1918 non-null float32\n",
      "manager               4870 non-null float32\n",
      "supervisor            4870 non-null float32\n",
      "secretary             4870 non-null float32\n",
      "offsupport            4870 non-null float32\n",
      "salesrep              4870 non-null float32\n",
      "retailsales           4870 non-null float32\n",
      "req                   4870 non-null float32\n",
      "expreq                4870 non-null float32\n",
      "comreq                4870 non-null float32\n",
      "educreq               4870 non-null float32\n",
      "compreq               4870 non-null float32\n",
      "orgreq                4870 non-null float32\n",
      "manuf                 4870 non-null float32\n",
      "transcom              4870 non-null float32\n",
      "bankreal              4870 non-null float32\n",
      "trade                 4870 non-null float32\n",
      "busservice            4870 non-null float32\n",
      "othservice            4870 non-null float32\n",
      "missind               4870 non-null float32\n",
      "ownership             4870 non-null object\n",
      "dtypes: float32(42), int16(1), int8(12), object(10)\n",
      "memory usage: 1.3+ MB\n",
      "None\n"
     ]
    }
   ],
   "source": [
    "print(data.info())"
   ]
  },
  {
   "cell_type": "markdown",
   "metadata": {
    "collapsed": true
   },
   "source": [
    "<h2>1. What test is appropriate for this problem? Does CLT apply?</h2>\n",
    "<h3>Solution:</h3>\n",
    "\n",
    "   1. Plot ecdfs for the whole data set, for black and for white sounding names and see the distribution\n",
    "   2.  Since sample size is large enough that CLT should apply. i.e. if you keep sampling with replacement and find the mean number of callbacks you will get a  normal distributioin\n",
    "\n"
   ]
  },
  {
   "cell_type": "code",
   "execution_count": 9,
   "metadata": {},
   "outputs": [
    {
     "data": {
      "image/png": "[encoded data removed]",
      "text/plain": [
       "<matplotlib.figure.Figure at 0x1121ca828>"
      ]
     },
     "metadata": {},
     "output_type": "display_data"
    }
   ],
   "source": [
    "#Computing mean proportion of all callbacks. Construct bootstrap samples from the whole callback data and then plotting\n",
    "#actual and historical ecdf. This shows that the mean of callbacks does follow a normal distritbution.\n",
    "\n",
    "import numpy as np\n",
    "import matplotlib.pyplot as plt\n",
    "def bootstrap_replicate_1d(data,func):\n",
    "    return func(np.random.choice(data,len(data)))\n",
    "\n",
    "def draw_bs_reps(data,func,size=1):\n",
    "    bs_replicates = np.empty(size)\n",
    "    for i in range(size):\n",
    "        bs_replicates[i] = bootstrap_replicate_1d(data,func)\n",
    "    return bs_replicates    \n",
    "\n",
    "def ecdf(data):\n",
    "    x=np.sort(data)\n",
    "    n=len(data)\n",
    "    y=np.arange(1,n+1)/n\n",
    "    return(x,y)\n",
    "\n",
    "\n",
    "mean_reps = draw_bs_reps(data['call'],np.mean,10000)\n",
    "x,y = ecdf(mean_reps)\n",
    "mean = np.mean(mean_reps)\n",
    "std = np.std(mean_reps)\n",
    "samples = np.random.normal(mean,std,size=10000)\n",
    "x_theor,y_theor=ecdf(samples)\n",
    "_= plt.plot(x,y,marker='.',linestyle='none')\n",
    "_= plt.plot(x_theor,y_theor)\n",
    "plt.show()"
   ]
  },
  {
   "cell_type": "code",
   "execution_count": 11,
   "metadata": {},
   "outputs": [
    {
     "data": {
      "image/png": "[encoded data removed]",
      "text/plain": [
       "<matplotlib.figure.Figure at 0x116105588>"
      ]
     },
     "metadata": {},
     "output_type": "display_data"
    }
   ],
   "source": [
    "#Repeating bootstrap sampling for callbacks for white sounding names. \n",
    "#This also follows a normal distribution\n",
    "mean_reps = draw_bs_reps(data['call'][data['race']=='w'],np.mean,100000)\n",
    "x,y = ecdf(mean_reps)\n",
    "mean = np.mean(mean_reps)\n",
    "std = np.std(mean_reps)\n",
    "samples = np.random.normal(mean,std,size=10000)\n",
    "x_theor,y_theor=ecdf(samples)\n",
    "_= plt.plot(x,y,marker='.',linestyle='none')\n",
    "_= plt.plot(x_theor,y_theor)\n",
    "plt.show()"
   ]
  },
  {
   "cell_type": "code",
   "execution_count": 8,
   "metadata": {},
   "outputs": [
    {
     "data": {
      "image/png": "[encoded data removed]",
      "text/plain": [
       "<matplotlib.figure.Figure at 0x11ab9c8d0>"
      ]
     },
     "metadata": {},
     "output_type": "display_data"
    }
   ],
   "source": [
    "#Repeating bootstrap sampling for callbacks for black sounding names. \n",
    "#This also follows a normal distribution\n",
    "mean_reps = draw_bs_reps(data['call'][data['race']=='b'],np.mean,100000)\n",
    "x,y = ecdf(mean_reps)\n",
    "mean = np.mean(mean_reps)\n",
    "std = np.std(mean_reps)\n",
    "samples = np.random.normal(mean,std,size=10000)\n",
    "x_theor,y_theor=ecdf(samples)\n",
    "_= plt.plot(x,y,marker='.',linestyle='none')\n",
    "_= plt.plot(x_theor,y_theor)\n",
    "plt.show()"
   ]
  },
  {
   "cell_type": "markdown",
   "metadata": {},
   "source": [
    "<h2> 2. What are the null and alternate hypothesis? </h2>\n",
    "\n",
    "<h3>Solution: </h3>\n",
    "The null hypothesis is that the proportion of callbacks for black and for white sounding names is the same. The alternate hypothesis is that the proportion of callbacks for the different race is not the same.</h3>\n",
    "\n",
    "<h3> Constructing hypothesis test for two independent samples with dichotomous outcome</h3>\n",
    " <h4>Step 1: Set up hypothesis and determine level of significance</h4>\n",
    "     H0: p1=p2    \n",
    "     H1:p1!=p2    \n",
    "     alpha = 0.05\n",
    "     \n",
    " <h4>Step 2: Select appropriate test statistic</h4>\n",
    "    <p>We must first check that the sample size is adequate. Specifically we need to ensure that we have at least 5 successes and 5 failures in each comparison group. In this example we have more than enough successes and failures in each comparisong group. The sample size is more than adequate so the following formula can be used:</p>\n",
    "    Z = (p1 - p2) / np.sqrt( p(1-p)(1/n1 + 1/n2) )\n",
    "    \n",
    " <h4>Step 3: Set up Decision rule</h4>\n",
    "     Reject H0 if Z <= -1.960 or if Z >= 1.960\n",
    "  \n",
    " <h4>Step 4: Compute the statistic</h4>\n",
    "     Z = -4.10841215243\n",
    " \n",
    " <h4>Step 5: Conclusion</h4>\n",
    "     We reject the null hypothesis because -4.108 <= -1.960 . We have statistically significant evidence at alpha 0.05\n",
    "     to show that there is a difference in the proportions of callbacks between black and white sounding names\n",
    "     "
   ]
  },
  {
   "cell_type": "code",
   "execution_count": 13,
   "metadata": {},
   "outputs": [
    {
     "name": "stdout",
     "output_type": "stream",
     "text": [
      "Proportion of black sounding names called back:  6.4476386037\n",
      "Proportion of white sounding names called back:  9.65092402464\n",
      "Proportion of callbacks overall:  8.04928131417\n",
      "-4.10841215243\n"
     ]
    }
   ],
   "source": [
    "callback_b = sum(data[data.race=='b'].call)\n",
    "callback_w = sum(data[data.race=='w'].call)\n",
    "nb = len(data[data.race=='b'])\n",
    "nw = len(data[data.race=='w'])\n",
    "pb = callback_b/sample_callback_b #p1\n",
    "pw = callback_w/sample_callback_w #p2\n",
    "p_all = sum(data.call)/len(data.call) #p\n",
    "print(\"Proportion of black sounding names called back: \",pb*100)\n",
    "print(\"Proportion of white sounding names called back: \",pw*100)\n",
    "print(\"Proportion of callbacks overall: \",p_all*100)\n",
    "Z = (pb-pw)/ np.sqrt( p_all*(1-p_all)*((1/nb)+(1/nw)))\n",
    "print(Z)"
   ]
  },
  {
   "cell_type": "markdown",
   "metadata": {},
   "source": [
    "<h2> 3. Compute margin of error, confidence interval, and p-value.</h2>\n"
   ]
  },
  {
   "cell_type": "code",
   "execution_count": 34,
   "metadata": {},
   "outputs": [
    {
     "data": {
      "image/png": "[encoded data removed]",
      "text/plain": [
       "<matplotlib.figure.Figure at 0x11f1f3fd0>"
      ]
     },
     "metadata": {},
     "output_type": "display_data"
    },
    {
     "name": "stdout",
     "output_type": "stream",
     "text": [
      "Sample - P hat: 0.0804974743746\n",
      "Data proportion: 0.0804928131417\n",
      "Check if np > 10 : 392.0\n",
      "Check if n(1-p) > 10: 4478.0\n",
      "Standard error of the mean:  0.00389844701809\n",
      "Margin of error = Z_critical * SEM : 0.00764095615545\n",
      "Proportion of confidence intervals that do not contain the sample mean:  0.0465\n"
     ]
    }
   ],
   "source": [
    "plt.hist(mean_reps)\n",
    "plt.show()\n",
    "\n",
    "#Step 1: Obtain 10000 random samples and draw proportion\n",
    "sample_proportion = draw_bs_reps(data['call'],np.mean,10000)\n",
    "sample_proportion_mean = np.mean(sample_proportion)\n",
    "data_proportion = sum(data['call'])/len(data['call'])\n",
    "print(\"Sample - P hat:\",sample_proportion_mean)\n",
    "print(\"Data proportion:\",data_proportion)\n",
    "print(\"Check if np > 10 :\",data_proportion*len(data['call']))\n",
    "print(\"Check if n(1-p) > 10:\",(1-data_proportion)*len(data['call']))\n",
    "print(\"Standard error of the mean: \", np.sqrt( (data_proportion*(1-data_proportion))/len(data['call'])))\n",
    "print(\"Margin of error = Z_critical * SEM :\",1.96*np.sqrt( (data_proportion*(1-data_proportion))/len(data['call'])))\n",
    "\n",
    "#We have 10,000 samples of size 4870. Therefore our sample size is 4870\n",
    "#Now we can use one of the samples to construct a confidence interval\n",
    "z_critical = 1.96\n",
    "count_incorrect_intervals = 0\n",
    "sem = np.empty_like(sample_proportion)\n",
    "margin_of_error = np.empty_like(sample_proportion)\n",
    "confidence_interval = np.empty([len(sample_proportion),2])\n",
    "for i,x in enumerate(sample_proportion):\n",
    "    sem[i] = np.sqrt((x*(1-x))/4870)\n",
    "    margin_of_error[i] = z_critical*sem[i]\n",
    "    confidence_interval[i] = [sample_proportion[i]-margin_of_error[i], sample_proportion[i]+margin_of_error[i]]\n",
    "    if (data_proportion < confidence_interval[i][0]) or (data_proportion > confidence_interval[i][1]):\n",
    "        count_incorrect_intervals +=1\n",
    "\n",
    "print(\"Proportion of confidence intervals that do not contain the sample mean: \",count_incorrect_intervals/10000)\n",
    "    \n"
   ]
  },
  {
   "cell_type": "markdown",
   "metadata": {},
   "source": [
    "<h2> 4. Write a story describing the statistical significance in the context or the original problem.</h2>\n",
    "\n",
    "<h3> Solution: </h3>\n",
    "Given the p value that is much less than 0.01, there is statisitically significant difference between the number of callbacks received by black vs white sounding names. Such a small p value indicates that probability of obtaining such extreme results is very unlikely to happen by chance.\n",
    "\n"
   ]
  },
  {
   "cell_type": "code",
   "execution_count": 35,
   "metadata": {},
   "outputs": [
    {
     "name": "stdout",
     "output_type": "stream",
     "text": [
      "2e-05\n"
     ]
    }
   ],
   "source": [
    "def diff_of_means(data1, data2):\n",
    "    return(np.mean(data1)-np.mean(data2))\n",
    "\n",
    "def permutation_sample(data1,data2):\n",
    "    data = np.concatenate((data1,data2))\n",
    "    permuted_data = np.random.permutation(data)\n",
    "    perm_sample_data1 = permuted_data[:len(data1)]\n",
    "    perm_sample_data2 = permuted_data[len(data1):]\n",
    "    return perm_sample_data1,perm_sample_data2\n",
    "\n",
    "def draw_perm_reps(data1,data2,func,size=1):\n",
    "    perm_replicates = np.empty(size)\n",
    "    for i in range(size):\n",
    "        perm_sample_1,perm_sample_2 = permutation_sample(data1,data2)\n",
    "        perm_replicates[i] = func(perm_sample_1,perm_sample_2)\n",
    "    return perm_replicates\n",
    "\n",
    "data1 = np.array(data['call'][data['race']=='w'])\n",
    "data2 = np.array(data['call'][data['race']=='b'])\n",
    "empiricial_diff = diff_of_means(data1,data2)\n",
    "bs_replicates = draw_perm_reps(data1,data2,diff_of_means,size=100000)\n",
    "p = np.sum(bs_replicates>=empiricial_diff)/100000\n",
    "print(p)"
   ]
  },
  {
   "cell_type": "markdown",
   "metadata": {},
   "source": [
    "<h2>5. Does your analysis mean that race/name is the most important factor in callback success? Why or why not? If not, how would you amend your analysis?</h2>\n",
    "\n",
    "<p>Analyzing other factors like sex, race, volunteer, city, kind - it seems that city has the most significant effect on the outcome. We can explore the importance of more predictor variables to be sure. Based on the logistic regression results race is a significant predictor variable after city. </p>\n",
    "\n"
   ]
  },
  {
   "cell_type": "code",
   "execution_count": 59,
   "metadata": {},
   "outputs": [
    {
     "name": "stdout",
     "output_type": "stream",
     "text": [
      "Optimization terminated successfully.\n",
      "         Current function value: 0.275433\n",
      "         Iterations 7\n",
      "                           Logit Regression Results                           \n",
      "==============================================================================\n",
      "Dep. Variable:                   call   No. Observations:                 4870\n",
      "Model:                          Logit   Df Residuals:                     4864\n",
      "Method:                           MLE   Df Model:                            5\n",
      "Date:                Thu, 23 Nov 2017   Pseudo R-squ.:                 0.01621\n",
      "Time:                        14:12:11   Log-Likelihood:                -1341.4\n",
      "converged:                       True   LL-Null:                       -1363.5\n",
      "                                        LLR p-value:                 2.104e-08\n",
      "==============================================================================\n",
      "                 coef    std err          z      P>|z|      [0.025      0.975]\n",
      "------------------------------------------------------------------------------\n",
      "Intercept     -2.1965      0.132    -16.686      0.000      -2.455      -1.939\n",
      "sex[T.m]      -0.0461      0.157     -0.293      0.770      -0.355       0.263\n",
      "race[T.w]      0.4414      0.108      4.100      0.000       0.230       0.652\n",
      "city[T.c]     -0.6033      0.121     -5.001      0.000      -0.840      -0.367\n",
      "kind[T.s]     -0.4159      0.144     -2.881      0.004      -0.699      -0.133\n",
      "volunteer      0.0288      0.108      0.266      0.790      -0.183       0.240\n",
      "==============================================================================\n",
      "Intercept   -2.196522\n",
      "sex[T.m]    -0.046140\n",
      "race[T.w]    0.441378\n",
      "city[T.c]   -0.603272\n",
      "kind[T.s]   -0.415936\n",
      "volunteer    0.028777\n",
      "dtype: float64\n"
     ]
    }
   ],
   "source": [
    "import statsmodels.api as sm\n",
    "from statsmodels.formula.api import logit, probit, poisson, ols\n",
    "regression_callback = logit(\"call ~ sex + race + volunteer + city + kind\", data).fit()\n",
    "print(regression_callback.summary())\n",
    "print(regression_callback.params)"
   ]
  },
  {
   "cell_type": "code",
   "execution_count": 61,
   "metadata": {},
   "outputs": [
    {
     "name": "stdout",
     "output_type": "stream",
     "text": [
      "0.00013\n"
     ]
    }
   ],
   "source": [
    "def diff_of_means(data1, data2):\n",
    "    return(np.mean(data1)-np.mean(data2))\n",
    "\n",
    "def permutation_sample(data1,data2):\n",
    "    data = np.concatenate((data1,data2))\n",
    "    permuted_data = np.random.permutation(data)\n",
    "    perm_sample_data1 = permuted_data[:len(data1)]\n",
    "    perm_sample_data2 = permuted_data[len(data1):]\n",
    "    return perm_sample_data1,perm_sample_data2\n",
    "\n",
    "def draw_perm_reps(data1,data2,func,size=1):\n",
    "    perm_replicates = np.empty(size)\n",
    "    for i in range(size):\n",
    "        perm_sample_1,perm_sample_2 = permutation_sample(data1,data2)\n",
    "        perm_replicates[i] = func(perm_sample_1,perm_sample_2)\n",
    "    return perm_replicates\n",
    "\n",
    "data1 = np.array(data['call'][data['city']=='b'])\n",
    "data2 = np.array(data['call'][data['city']=='c'])\n",
    "empiricial_diff = diff_of_means(data1,data2)\n",
    "bs_replicates = draw_perm_reps(data1,data2,diff_of_means,size=100000)\n",
    "p = np.sum(bs_replicates>=empiricial_diff)/100000\n",
    "print(p)"
   ]
  },
  {
   "cell_type": "code",
   "execution_count": null,
   "metadata": {
    "collapsed": true
   },
   "outputs": [],
   "source": []
  }
 ],
 "metadata": {
  "kernelspec": {
   "display_name": "Python 3",
   "language": "python",
   "name": "python3"
  },
  "language_info": {
   "codemirror_mode": {
    "name": "ipython",
    "version": 3
   },
   "file_extension": ".py",
   "mimetype": "text/x-python",
   "name": "python",
   "nbconvert_exporter": "python",
   "pygments_lexer": "ipython3",
   "version": "3.6.1"
  }
 },
 "nbformat": 4,
 "nbformat_minor": 1
}
