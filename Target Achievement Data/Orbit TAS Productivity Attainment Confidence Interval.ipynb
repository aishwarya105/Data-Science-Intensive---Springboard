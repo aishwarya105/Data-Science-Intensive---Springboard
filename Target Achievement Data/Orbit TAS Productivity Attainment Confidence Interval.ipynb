{
 "cells": [
  {
   "cell_type": "code",
   "execution_count": 1,
   "metadata": {},
   "outputs": [
    {
     "name": "stdout",
     "output_type": "stream",
     "text": [
      "<class 'pandas.core.frame.DataFrame'>\n",
      "RangeIndex: 36 entries, 0 to 35\n",
      "Data columns (total 10 columns):\n",
      "quarter                  36 non-null object\n",
      "podname                  36 non-null object\n",
      "Cluster                  36 non-null object\n",
      "Headcount                36 non-null float64\n",
      "PointsWon                36 non-null int64\n",
      "PointsTarget             36 non-null int64\n",
      "UniqueAccountsAdopted    36 non-null int64\n",
      "AccountsTarget           36 non-null int64\n",
      "Points Attainment        36 non-null float64\n",
      "UAA Attainment           36 non-null float64\n",
      "dtypes: float64(3), int64(4), object(3)\n",
      "memory usage: 2.9+ KB\n"
     ]
    }
   ],
   "source": [
    "import numpy as np\n",
    "import pandas as pd\n",
    "\n",
    "df = pd.read_csv('Orbit TAS Historic Attainment - Sheet1.csv')\n",
    "df = df.rename(columns={\"UAA Attainment \":\"UAA Attainment\"})\n",
    "df['Points Attainment']=df['Points Attainment'].replace('%','',regex=True).astype('float')/100\n",
    "df['UAA Attainment'] = df['UAA Attainment'].replace('%','',regex=True).astype('float')/100\n",
    "\n",
    "df.info()\n"
   ]
  },
  {
   "cell_type": "code",
   "execution_count": 9,
   "metadata": {
    "collapsed": true
   },
   "outputs": [],
   "source": [
    "df = df[df['Cluster']==\"Cluster 1\"]\n",
    "def bootstrap_replicate_1d(data,func):\n",
    "    return(func(np.random.choice(data,len(data))))\n",
    "\n",
    "def draw_bs_reps(data,func,size=1):\n",
    "    bs_replicates = np.empty(size)\n",
    "    for i in range(size):\n",
    "        bs_replicates[i] = bootstrap_replicate_1d(data,func)\n",
    "    return(bs_replicates)\n",
    "\n",
    "bs_replicates = draw_bs_reps(df['Points Attainment'],np.mean,100000)\n"
   ]
  },
  {
   "cell_type": "code",
   "execution_count": 10,
   "metadata": {},
   "outputs": [
    {
     "name": "stdout",
     "output_type": "stream",
     "text": [
      "[ 1.04005443  1.18676375]\n"
     ]
    }
   ],
   "source": [
    "print(np.percentile(bs_replicates,[2.5,97.5]))"
   ]
  },
  {
   "cell_type": "code",
   "execution_count": 11,
   "metadata": {},
   "outputs": [
    {
     "name": "stdout",
     "output_type": "stream",
     "text": [
      "Standard error of the mean: 0.0373964849396\n",
      "Margin of error: 0.0615117438881\n",
      "Recalculated confidence interval: [1.0476708109754993, 1.1706942987517732]\n"
     ]
    },
    {
     "data": {
      "image/png": "[encoded data removed]",
      "text/plain": [
       "<matplotlib.figure.Figure at 0x11d7af9b0>"
      ]
     },
     "metadata": {},
     "output_type": "display_data"
    }
   ],
   "source": [
    "from scipy import stats\n",
    "import matplotlib.pyplot as plt\n",
    "\n",
    "sem = np.std(df['Points Attainment'])/np.sqrt(len(df['Points Attainment']))\n",
    "print(\"Standard error of the mean:\",sem)\n",
    "z_critical = stats.norm.ppf(q = 0.95)\n",
    "margin_of_error = z_critical*sem\n",
    "print(\"Margin of error:\",margin_of_error)\n",
    "confidence_interval = [np.mean(bs_replicates) - margin_of_error, np.mean(bs_replicates) + margin_of_error]\n",
    "print(\"Recalculated confidence interval:\",confidence_interval)\n",
    "plt.vlines(x=np.mean(bs_replicates) - margin_of_error,ymin = 0,ymax=7000)\n",
    "plt.vlines(x=np.mean(bs_replicates) + margin_of_error,ymin = 0,ymax=7000)\n",
    "plt.hist(bs_replicates,bins =50)\n",
    "plt.show()\n"
   ]
  },
  {
   "cell_type": "code",
   "execution_count": 13,
   "metadata": {},
   "outputs": [
    {
     "name": "stdout",
     "output_type": "stream",
     "text": [
      "Standard error of the mean: 0.024926702787\n",
      "Margin of error: 0.0410007774872\n",
      "Recalculated confidence interval: [1.1015465878309847, 1.1835481428053782]\n"
     ]
    },
    {
     "data": {
      "image/png": "[encoded data removed]",
      "text/plain": [
       "<matplotlib.figure.Figure at 0x11df0ada0>"
      ]
     },
     "metadata": {},
     "output_type": "display_data"
    }
   ],
   "source": [
    "uaa_bs_replicates = draw_bs_reps(df['UAA Attainment'][df['Cluster']=='Cluster 1'],np.mean,100000)\n",
    "\n",
    "\n",
    "sem = np.std(df['UAA Attainment'])/np.sqrt(len(df['UAA Attainment']))\n",
    "print(\"Standard error of the mean:\",sem)\n",
    "z_critical = stats.norm.ppf(q = 0.95)\n",
    "margin_of_error = z_critical*sem\n",
    "print(\"Margin of error:\",margin_of_error)\n",
    "confidence_interval = [np.mean(uaa_bs_replicates) - margin_of_error, np.mean(uaa_bs_replicates) + margin_of_error]\n",
    "print(\"Recalculated confidence interval:\",confidence_interval)\n",
    "plt.vlines(x=np.mean(uaa_bs_replicates) - margin_of_error,ymin = 0,ymax=6000)\n",
    "plt.vlines(x=np.mean(uaa_bs_replicates) + margin_of_error,ymin = 0,ymax=6000)\n",
    "plt.hist(uaa_bs_replicates,bins =50)\n",
    "plt.show()\n"
   ]
  },
  {
   "cell_type": "code",
   "execution_count": null,
   "metadata": {
    "collapsed": true
   },
   "outputs": [],
   "source": []
  }
 ],
 "metadata": {
  "kernelspec": {
   "display_name": "Python 3",
   "language": "python",
   "name": "python3"
  },
  "language_info": {
   "codemirror_mode": {
    "name": "ipython",
    "version": 3
   },
   "file_extension": ".py",
   "mimetype": "text/x-python",
   "name": "python",
   "nbconvert_exporter": "python",
   "pygments_lexer": "ipython3",
   "version": "3.6.1"
  }
 },
 "nbformat": 4,
 "nbformat_minor": 2
}
